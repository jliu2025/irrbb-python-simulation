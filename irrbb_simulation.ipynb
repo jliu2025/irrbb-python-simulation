{
 "cells": [
  {
   "cell_type": "code",
   "execution_count": 1,
   "metadata": {},
   "outputs": [],
   "source": [
    "import pandas as pd\n",
    "import numpy as np\n",
    "from datetime import datetime"
   ]
  },
  {
   "cell_type": "code",
   "execution_count": 2,
   "metadata": {},
   "outputs": [],
   "source": [
    "# Define banking book\n",
    "bank_data = {\n",
    "    'ProductID': ['L1', 'L2', 'D1', 'D2'],\n",
    "    'ProductType': ['Fixed-Rate Loan', 'Floating-Rate Loan', 'Floating-Rate Deposit', 'Demand Deposit'],\n",
    "    'Currency': ['CAD', 'CAD', 'CAD', 'CAD'],\n",
    "    'Notional': [100_000_000, 50_000_000, 120_000_000, 30_000_000],\n",
    "    'RateType': ['Fixed', 'Variable', 'Variable', 'Fixed'],\n",
    "    'Rate': [0.04, 0.03, 0.025, 0.0],\n",
    "    'RepricingDate': ['2030-04-21', '2025-07-21', '2025-07-21', None],\n",
    "    'MaturityDate': ['2030-04-21', '2026-04-21', '2026-04-21', None],\n",
    "    'TimeBucket': ['5Y', '3M', '3M', 'Non-Repricing']\n",
    "}\n"
   ]
  },
  {
   "cell_type": "code",
   "execution_count": 3,
   "metadata": {},
   "outputs": [],
   "source": [
    "# Create DataFrame\n",
    "df = pd.DataFrame(bank_data)"
   ]
  },
  {
   "cell_type": "code",
   "execution_count": 4,
   "metadata": {},
   "outputs": [
    {
     "data": {
      "text/html": [
       "<div>\n",
       "<style scoped>\n",
       "    .dataframe tbody tr th:only-of-type {\n",
       "        vertical-align: middle;\n",
       "    }\n",
       "\n",
       "    .dataframe tbody tr th {\n",
       "        vertical-align: top;\n",
       "    }\n",
       "\n",
       "    .dataframe thead th {\n",
       "        text-align: right;\n",
       "    }\n",
       "</style>\n",
       "<table border=\"1\" class=\"dataframe\">\n",
       "  <thead>\n",
       "    <tr style=\"text-align: right;\">\n",
       "      <th></th>\n",
       "      <th>ProductID</th>\n",
       "      <th>ProductType</th>\n",
       "      <th>Currency</th>\n",
       "      <th>Notional</th>\n",
       "      <th>RateType</th>\n",
       "      <th>Rate</th>\n",
       "      <th>RepricingDate</th>\n",
       "      <th>MaturityDate</th>\n",
       "      <th>TimeBucket</th>\n",
       "    </tr>\n",
       "  </thead>\n",
       "  <tbody>\n",
       "    <tr>\n",
       "      <th>0</th>\n",
       "      <td>L1</td>\n",
       "      <td>Fixed-Rate Loan</td>\n",
       "      <td>CAD</td>\n",
       "      <td>100000000</td>\n",
       "      <td>Fixed</td>\n",
       "      <td>0.040</td>\n",
       "      <td>2030-04-21</td>\n",
       "      <td>2030-04-21</td>\n",
       "      <td>5Y</td>\n",
       "    </tr>\n",
       "    <tr>\n",
       "      <th>1</th>\n",
       "      <td>L2</td>\n",
       "      <td>Floating-Rate Loan</td>\n",
       "      <td>CAD</td>\n",
       "      <td>50000000</td>\n",
       "      <td>Variable</td>\n",
       "      <td>0.030</td>\n",
       "      <td>2025-07-21</td>\n",
       "      <td>2026-04-21</td>\n",
       "      <td>3M</td>\n",
       "    </tr>\n",
       "    <tr>\n",
       "      <th>2</th>\n",
       "      <td>D1</td>\n",
       "      <td>Floating-Rate Deposit</td>\n",
       "      <td>CAD</td>\n",
       "      <td>120000000</td>\n",
       "      <td>Variable</td>\n",
       "      <td>0.025</td>\n",
       "      <td>2025-07-21</td>\n",
       "      <td>2026-04-21</td>\n",
       "      <td>3M</td>\n",
       "    </tr>\n",
       "    <tr>\n",
       "      <th>3</th>\n",
       "      <td>D2</td>\n",
       "      <td>Demand Deposit</td>\n",
       "      <td>CAD</td>\n",
       "      <td>30000000</td>\n",
       "      <td>Fixed</td>\n",
       "      <td>0.000</td>\n",
       "      <td>None</td>\n",
       "      <td>None</td>\n",
       "      <td>Non-Repricing</td>\n",
       "    </tr>\n",
       "  </tbody>\n",
       "</table>\n",
       "</div>"
      ],
      "text/plain": [
       "  ProductID            ProductType Currency   Notional  RateType   Rate  \\\n",
       "0        L1        Fixed-Rate Loan      CAD  100000000     Fixed  0.040   \n",
       "1        L2     Floating-Rate Loan      CAD   50000000  Variable  0.030   \n",
       "2        D1  Floating-Rate Deposit      CAD  120000000  Variable  0.025   \n",
       "3        D2         Demand Deposit      CAD   30000000     Fixed  0.000   \n",
       "\n",
       "  RepricingDate MaturityDate     TimeBucket  \n",
       "0    2030-04-21   2030-04-21             5Y  \n",
       "1    2025-07-21   2026-04-21             3M  \n",
       "2    2025-07-21   2026-04-21             3M  \n",
       "3          None         None  Non-Repricing  "
      ]
     },
     "execution_count": 4,
     "metadata": {},
     "output_type": "execute_result"
    }
   ],
   "source": [
    "df"
   ]
  },
  {
   "cell_type": "code",
   "execution_count": 5,
   "metadata": {},
   "outputs": [],
   "source": [
    "# Define EBA shock scenarios\n",
    "scenarios = {\n",
    "    'Parallel Up': {'short': 0.02, 'long': 0.02},\n",
    "    'Parallel Down': {'short': -0.02, 'long': -0.02},  # Floored at 0% for short rates\n",
    "    'Steepener': {'short': -0.01, 'long': 0.01},\n",
    "    'Flattener': {'short': 0.01, 'long': -0.01},\n",
    "    'Short Rates Up': {'short': 0.025, 'long': 0.0},\n",
    "    'Short Rates Down': {'short': -0.025, 'long': 0.0}  # Floored at 0%\n",
    "}\n"
   ]
  },
  {
   "cell_type": "code",
   "execution_count": 6,
   "metadata": {},
   "outputs": [],
   "source": [
    "# Base yield curve (flat at 2%)\n",
    "base_rate = 0.02"
   ]
  },
  {
   "cell_type": "code",
   "execution_count": 7,
   "metadata": {},
   "outputs": [],
   "source": [
    "# Helper functions\n",
    "def pvifa(r, n):\n",
    "    \"\"\"Calculate Present Value Interest Factor for an Annuity.\"\"\"\n",
    "    #r: The interest rate per period (as a decimal, e.g., 5% = 0.05).\n",
    "    #n: The number of periods (e.g., years or payment periods).\n",
    "    #(1 + r): Represents the growth factor for one period.\n",
    "    #(1 + r) ** -n: Calculates the inverse of the compound interest factor, i.e., 1(1+r)n\\frac{1}{(1 + r)^n}\\frac{1}{(1 + r)^n}\n",
    "    #, which discounts the final period back to the present.\n",
    "    #1 - (1 + r) ** -n: Computes the sum of the geometric series of discounted values for the annuity.\n",
    "    #/ r: Divides by the interest rate to get the PVIFA factor.\n",
    "    \n",
    "    if r == 0:\n",
    "        return n\n",
    "    return (1 - (1 + r) ** -n) / r"
   ]
  },
  {
   "cell_type": "code",
   "execution_count": 8,
   "metadata": {},
   "outputs": [],
   "source": [
    "def pvif(r, n):\n",
    "    \"\"\"Calculate Present Value Interest Factor for a single sum.\"\"\"\n",
    "    return (1 + r) ** -n"
   ]
  },
  {
   "cell_type": "code",
   "execution_count": 9,
   "metadata": {},
   "outputs": [],
   "source": [
    "def calculate_eve(df, discount_rate):\n",
    "    \"\"\"Calculate EVE for assets and liabilities.\"\"\"\n",
    "    pv_assets = 0\n",
    "    pv_liabilities = 0\n",
    "\n",
    "    for idx, row in df.iterrows():\n",
    "        notional = row['Notional']\n",
    "        rate = row['Rate']\n",
    "        maturity = 5 if row['TimeBucket'] == '5Y' else 0.25 if row['TimeBucket'] == '3M' else 0\n",
    "\n",
    "        if row['ProductType'] in ['Fixed-Rate Loan', 'Floating-Rate Loan']:\n",
    "            if row['TimeBucket'] == '5Y':\n",
    "                # Fixed-rate loan: coupon + principal\n",
    "                coupon = notional * rate\n",
    "                pv_coupon = coupon * pvifa(discount_rate, 5)\n",
    "                pv_principal = notional * pvif(discount_rate, 5)\n",
    "                pv_assets += pv_coupon + pv_principal\n",
    "            else:\n",
    "                # Floating-rate loan: PV ~ notional (short-term)\n",
    "                pv_assets += notional\n",
    "        elif row['ProductType'] == 'Floating-Rate Deposit':\n",
    "            # Floating-rate deposit: PV ~ notional\n",
    "            pv_liabilities += notional\n",
    "        elif row['ProductType'] == 'Demand Deposit':\n",
    "            # Non-interest-bearing: PV = notional\n",
    "            pv_liabilities += notional\n",
    "\n",
    "    eve = pv_assets - pv_liabilities\n",
    "    return eve"
   ]
  },
  {
   "cell_type": "code",
   "execution_count": 10,
   "metadata": {},
   "outputs": [],
   "source": [
    "def calculate_nii(df, short_rate):\n",
    "    \"\"\"Calculate NII over 1-year horizon.\"\"\"\n",
    "    income = 0\n",
    "    expense = 0\n",
    "\n",
    "    for idx, row in df.iterrows():\n",
    "        notional = row['Notional']\n",
    "        rate = row['Rate']\n",
    "\n",
    "        if row['ProductType'] == 'Fixed-Rate Loan':\n",
    "            income += notional * rate\n",
    "        elif row['ProductType'] == 'Floating-Rate Loan':\n",
    "            income += notional * (short_rate + 0.01)  # Spread +1%\n",
    "        elif row['ProductType'] == 'Floating-Rate Deposit':\n",
    "            expense += notional * (short_rate + 0.005)  # Spread +0.5%\n",
    "        elif row['ProductType'] == 'Demand Deposit':\n",
    "            expense += 0\n",
    "\n",
    "            \n",
    "#A spread is an additional percentage added to account for factors such as:\n",
    "#Credit Risk, Profit Margin, Operational Costs, Market Conventions , Liquidity and Funding Costs            \n",
    "            \n",
    "    nii = income - expense\n",
    "    return nii"
   ]
  },
  {
   "cell_type": "code",
   "execution_count": 11,
   "metadata": {},
   "outputs": [
    {
     "name": "stdout",
     "output_type": "stream",
     "text": [
      "Base EVE: $9,426,919.02\n",
      "Base NII: $2,500,000.00\n"
     ]
    }
   ],
   "source": [
    "# Base case calculations\n",
    "base_eve = calculate_eve(df, base_rate)\n",
    "base_nii = calculate_nii(df, base_rate)\n",
    "print(f\"Base EVE: ${base_eve:,.2f}\")\n",
    "print(f\"Base NII: ${base_nii:,.2f}\")"
   ]
  },
  {
   "cell_type": "code",
   "execution_count": 12,
   "metadata": {},
   "outputs": [],
   "source": [
    "# Simulate scenarios\n",
    "results = []\n",
    "for scenario, shocks in scenarios.items():\n",
    "    # Adjust rates\n",
    "    short_rate = max(base_rate + shocks['short'], 0)  # Floor at 0%\n",
    "    long_rate = base_rate + shocks['long']\n",
    "\n",
    "    # Calculate shocked EVE and NII\n",
    "    shocked_eve = calculate_eve(df, long_rate)\n",
    "    shocked_nii = calculate_nii(df, short_rate)\n",
    "\n",
    "    # Calculate deltas\n",
    "    delta_eve = shocked_eve - base_eve\n",
    "    delta_nii = shocked_nii - base_nii\n",
    "\n",
    "    results.append({\n",
    "        'Scenario': scenario,\n",
    "        'Base Rate':base_rate,\n",
    "        'Short Rate':round(short_rate, 2),\n",
    "        'Long Rate':long_rate,\n",
    "        'ΔEVE': delta_eve,\n",
    "        'ΔEVE (%)': delta_eve / 50_000_000 * 100,  # % of Tier 1 Capital ($50M)\n",
    "        'ΔNII': delta_nii,\n",
    "        'ΔNII (%)': delta_nii / 50_000_000 * 100\n",
    "    })\n"
   ]
  },
  {
   "cell_type": "code",
   "execution_count": 13,
   "metadata": {},
   "outputs": [
    {
     "name": "stdout",
     "output_type": "stream",
     "text": [
      "\n",
      "IRRBB Stress Test Results:\n",
      "        Scenario  Base Rate  Short Rate  Long Rate          ΔEVE   ΔEVE (%)       ΔNII  ΔNII (%)\n",
      "     Parallel Up       0.02        0.04       0.04 -9.426919e+06 -18.853838 -1400000.0      -2.8\n",
      "   Parallel Down       0.02        0.00       0.00  1.057308e+07  21.146162  1400000.0       2.8\n",
      "       Steepener       0.02        0.01       0.03 -4.847212e+06  -9.694424   700000.0       1.4\n",
      "       Flattener       0.02        0.03       0.01  5.133375e+06  10.266749  -700000.0      -1.4\n",
      "  Short Rates Up       0.02        0.04       0.02  0.000000e+00   0.000000 -1750000.0      -3.5\n",
      "Short Rates Down       0.02        0.00       0.02  0.000000e+00   0.000000  1400000.0       2.8\n"
     ]
    }
   ],
   "source": [
    "# Create results DataFrame\n",
    "results_df = pd.DataFrame(results)\n",
    "print(\"\\nIRRBB Stress Test Results:\")\n",
    "print(results_df.to_string(index=False))\n",
    "results_df.to_csv('IRRBB_Result.csv', index=False)"
   ]
  },
  {
   "cell_type": "markdown",
   "metadata": {},
   "source": [
    "Steps to Comply with IRRBB\n",
    "To bring ΔEVE and ΔNII within acceptable regulatory limits, the bank needs to reduce its interest rate risk exposure. \n",
    "1. Reduce EVE Sensitivity\n",
    "    EVE measures the long-term impact of rate changes on the present value of all cash flows. \n",
    "    Large ΔEVE indicates a duration mismatch between assets and liabilities.\n",
    "\n",
    "    Adjust Asset-Liability Duration:\n",
    "        Shorten Asset Duration: If assets have a longer duration than liabilities  the bank loses \n",
    "        Lengthen Liability Duration: Issue longer-term fixed-rate deposits or debt to better match asset durations.\n",
    "    Use Interest Rate Swaps: Enter into pay-fixed, receive-floating swaps to hedge against rising rates. \n",
    "    Increase Capital Buffer:increasing Tier 1 capital can bring the ratio below the threshold\n",
    "\n",
    "2. Reduce NII Sensitivity\n",
    "    NII measures the short-term impact of rate changes on earnings. \n",
    "    Large ΔNII indicates over-reliance on floating-rate instruments with narrow spreads.\n",
    "\n",
    "    Widen Spreads:\n",
    "        The current spreads result in a narrow net interest margin (0.5%). Increasing the loan spread can stabilize NII by  providing a larger buffer against rate changes.\n",
    "\n",
    "    Shift to Fixed-Rate Products:Increase the proportion of fixed-rate loans or fixed-rate deposits.\n",
    "\n"
   ]
  }
 ],
 "metadata": {
  "kernelspec": {
   "display_name": "Python 3",
   "language": "python",
   "name": "python3"
  },
  "language_info": {
   "codemirror_mode": {
    "name": "ipython",
    "version": 3
   },
   "file_extension": ".py",
   "mimetype": "text/x-python",
   "name": "python",
   "nbconvert_exporter": "python",
   "pygments_lexer": "ipython3",
   "version": "3.7.9"
  }
 },
 "nbformat": 4,
 "nbformat_minor": 4
}
